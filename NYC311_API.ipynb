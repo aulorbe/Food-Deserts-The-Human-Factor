{
 "cells": [
  {
   "cell_type": "code",
   "execution_count": 1,
   "metadata": {},
   "outputs": [],
   "source": [
    "import requests\n",
    "import pandas as pd\n",
    "import json\n",
    "import numpy as np"
   ]
  },
  {
   "cell_type": "code",
   "execution_count": 63,
   "metadata": {},
   "outputs": [],
   "source": [
    "census = pd.read_csv('/Users/flatironschool/Flatiron_Projects/food-access/census_block_loc.csv')\n",
    "                     "
   ]
  },
  {
   "cell_type": "code",
   "execution_count": 64,
   "metadata": {},
   "outputs": [
    {
     "data": {
      "text/html": [
       "<div>\n",
       "<style scoped>\n",
       "    .dataframe tbody tr th:only-of-type {\n",
       "        vertical-align: middle;\n",
       "    }\n",
       "\n",
       "    .dataframe tbody tr th {\n",
       "        vertical-align: top;\n",
       "    }\n",
       "\n",
       "    .dataframe thead th {\n",
       "        text-align: right;\n",
       "    }\n",
       "</style>\n",
       "<table border=\"1\" class=\"dataframe\">\n",
       "  <thead>\n",
       "    <tr style=\"text-align: right;\">\n",
       "      <th></th>\n",
       "      <th>Latitude</th>\n",
       "      <th>Longitude</th>\n",
       "      <th>BlockCode</th>\n",
       "      <th>County</th>\n",
       "      <th>State</th>\n",
       "    </tr>\n",
       "  </thead>\n",
       "  <tbody>\n",
       "    <tr>\n",
       "      <th>0</th>\n",
       "      <td>40.48</td>\n",
       "      <td>-74.280000</td>\n",
       "      <td>340230076002012</td>\n",
       "      <td>Middlesex</td>\n",
       "      <td>NJ</td>\n",
       "    </tr>\n",
       "    <tr>\n",
       "      <th>1</th>\n",
       "      <td>40.48</td>\n",
       "      <td>-74.276834</td>\n",
       "      <td>340230076005000</td>\n",
       "      <td>Middlesex</td>\n",
       "      <td>NJ</td>\n",
       "    </tr>\n",
       "    <tr>\n",
       "      <th>2</th>\n",
       "      <td>40.48</td>\n",
       "      <td>-74.273668</td>\n",
       "      <td>340230076003018</td>\n",
       "      <td>Middlesex</td>\n",
       "      <td>NJ</td>\n",
       "    </tr>\n",
       "    <tr>\n",
       "      <th>3</th>\n",
       "      <td>40.48</td>\n",
       "      <td>-74.270503</td>\n",
       "      <td>340230076003004</td>\n",
       "      <td>Middlesex</td>\n",
       "      <td>NJ</td>\n",
       "    </tr>\n",
       "    <tr>\n",
       "      <th>4</th>\n",
       "      <td>40.48</td>\n",
       "      <td>-74.267337</td>\n",
       "      <td>340230074021000</td>\n",
       "      <td>Middlesex</td>\n",
       "      <td>NJ</td>\n",
       "    </tr>\n",
       "  </tbody>\n",
       "</table>\n",
       "</div>"
      ],
      "text/plain": [
       "   Latitude  Longitude        BlockCode     County State\n",
       "0     40.48 -74.280000  340230076002012  Middlesex    NJ\n",
       "1     40.48 -74.276834  340230076005000  Middlesex    NJ\n",
       "2     40.48 -74.273668  340230076003018  Middlesex    NJ\n",
       "3     40.48 -74.270503  340230076003004  Middlesex    NJ\n",
       "4     40.48 -74.267337  340230074021000  Middlesex    NJ"
      ]
     },
     "execution_count": 64,
     "metadata": {},
     "output_type": "execute_result"
    }
   ],
   "source": [
    "census.head()"
   ]
  },
  {
   "cell_type": "code",
   "execution_count": 67,
   "metadata": {},
   "outputs": [],
   "source": [
    "census['Geolocation'] = list(zip(census['Latitude'],census['Longitude']))"
   ]
  },
  {
   "cell_type": "code",
   "execution_count": 66,
   "metadata": {
    "scrolled": false
   },
   "outputs": [
    {
     "data": {
      "text/html": [
       "<div>\n",
       "<style scoped>\n",
       "    .dataframe tbody tr th:only-of-type {\n",
       "        vertical-align: middle;\n",
       "    }\n",
       "\n",
       "    .dataframe tbody tr th {\n",
       "        vertical-align: top;\n",
       "    }\n",
       "\n",
       "    .dataframe thead th {\n",
       "        text-align: right;\n",
       "    }\n",
       "</style>\n",
       "<table border=\"1\" class=\"dataframe\">\n",
       "  <thead>\n",
       "    <tr style=\"text-align: right;\">\n",
       "      <th></th>\n",
       "      <th>Latitude</th>\n",
       "      <th>Longitude</th>\n",
       "      <th>BlockCode</th>\n",
       "      <th>County</th>\n",
       "      <th>State</th>\n",
       "      <th>Geolocation</th>\n",
       "    </tr>\n",
       "  </thead>\n",
       "  <tbody>\n",
       "    <tr>\n",
       "      <th>0</th>\n",
       "      <td>40.48</td>\n",
       "      <td>-74.280000</td>\n",
       "      <td>340230076002012</td>\n",
       "      <td>Middlesex</td>\n",
       "      <td>NJ</td>\n",
       "      <td>(40.48, -74.28)</td>\n",
       "    </tr>\n",
       "    <tr>\n",
       "      <th>1</th>\n",
       "      <td>40.48</td>\n",
       "      <td>-74.276834</td>\n",
       "      <td>340230076005000</td>\n",
       "      <td>Middlesex</td>\n",
       "      <td>NJ</td>\n",
       "      <td>(40.48, -74.2768341709)</td>\n",
       "    </tr>\n",
       "    <tr>\n",
       "      <th>2</th>\n",
       "      <td>40.48</td>\n",
       "      <td>-74.273668</td>\n",
       "      <td>340230076003018</td>\n",
       "      <td>Middlesex</td>\n",
       "      <td>NJ</td>\n",
       "      <td>(40.48, -74.2736683417)</td>\n",
       "    </tr>\n",
       "    <tr>\n",
       "      <th>3</th>\n",
       "      <td>40.48</td>\n",
       "      <td>-74.270503</td>\n",
       "      <td>340230076003004</td>\n",
       "      <td>Middlesex</td>\n",
       "      <td>NJ</td>\n",
       "      <td>(40.48, -74.2705025126)</td>\n",
       "    </tr>\n",
       "    <tr>\n",
       "      <th>4</th>\n",
       "      <td>40.48</td>\n",
       "      <td>-74.267337</td>\n",
       "      <td>340230074021000</td>\n",
       "      <td>Middlesex</td>\n",
       "      <td>NJ</td>\n",
       "      <td>(40.48, -74.2673366834)</td>\n",
       "    </tr>\n",
       "  </tbody>\n",
       "</table>\n",
       "</div>"
      ],
      "text/plain": [
       "   Latitude  Longitude        BlockCode     County State  \\\n",
       "0     40.48 -74.280000  340230076002012  Middlesex    NJ   \n",
       "1     40.48 -74.276834  340230076005000  Middlesex    NJ   \n",
       "2     40.48 -74.273668  340230076003018  Middlesex    NJ   \n",
       "3     40.48 -74.270503  340230076003004  Middlesex    NJ   \n",
       "4     40.48 -74.267337  340230074021000  Middlesex    NJ   \n",
       "\n",
       "               Geolocation  \n",
       "0          (40.48, -74.28)  \n",
       "1  (40.48, -74.2768341709)  \n",
       "2  (40.48, -74.2736683417)  \n",
       "3  (40.48, -74.2705025126)  \n",
       "4  (40.48, -74.2673366834)  "
      ]
     },
     "execution_count": 66,
     "metadata": {},
     "output_type": "execute_result"
    }
   ],
   "source": [
    "census.head()"
   ]
  },
  {
   "cell_type": "code",
   "execution_count": 30,
   "metadata": {},
   "outputs": [
    {
     "data": {
      "text/plain": [
       "38396"
      ]
     },
     "execution_count": 30,
     "metadata": {},
     "output_type": "execute_result"
    }
   ],
   "source": [
    "len(census)"
   ]
  },
  {
   "cell_type": "code",
   "execution_count": 57,
   "metadata": {},
   "outputs": [],
   "source": [
    "for_test = []\n",
    "\n",
    "for i in census['Geolocation']:\n",
    "    i = (i[0] + 1, i[1])\n",
    "    for_test.append(i)\n",
    "    \n",
    "test = pd.Series(for_test)\n",
    "test_2 = pd.Series(for_test)"
   ]
  },
  {
   "cell_type": "code",
   "execution_count": 54,
   "metadata": {},
   "outputs": [],
   "source": [
    "census = census.drop(columns=['Test'])"
   ]
  },
  {
   "cell_type": "code",
   "execution_count": 55,
   "metadata": {
    "scrolled": true
   },
   "outputs": [
    {
     "data": {
      "text/html": [
       "<div>\n",
       "<style scoped>\n",
       "    .dataframe tbody tr th:only-of-type {\n",
       "        vertical-align: middle;\n",
       "    }\n",
       "\n",
       "    .dataframe tbody tr th {\n",
       "        vertical-align: top;\n",
       "    }\n",
       "\n",
       "    .dataframe thead th {\n",
       "        text-align: right;\n",
       "    }\n",
       "</style>\n",
       "<table border=\"1\" class=\"dataframe\">\n",
       "  <thead>\n",
       "    <tr style=\"text-align: right;\">\n",
       "      <th></th>\n",
       "      <th>Latitude</th>\n",
       "      <th>Longitude</th>\n",
       "      <th>BlockCode</th>\n",
       "      <th>County</th>\n",
       "      <th>State</th>\n",
       "      <th>Geolocation</th>\n",
       "    </tr>\n",
       "  </thead>\n",
       "  <tbody>\n",
       "    <tr>\n",
       "      <th>0</th>\n",
       "      <td>40.48</td>\n",
       "      <td>-74.280000</td>\n",
       "      <td>340230076002012</td>\n",
       "      <td>Middlesex</td>\n",
       "      <td>NJ</td>\n",
       "      <td>(40.48, -74.28)</td>\n",
       "    </tr>\n",
       "    <tr>\n",
       "      <th>1</th>\n",
       "      <td>40.48</td>\n",
       "      <td>-74.276834</td>\n",
       "      <td>340230076005000</td>\n",
       "      <td>Middlesex</td>\n",
       "      <td>NJ</td>\n",
       "      <td>(40.48, -74.2768341709)</td>\n",
       "    </tr>\n",
       "    <tr>\n",
       "      <th>2</th>\n",
       "      <td>40.48</td>\n",
       "      <td>-74.273668</td>\n",
       "      <td>340230076003018</td>\n",
       "      <td>Middlesex</td>\n",
       "      <td>NJ</td>\n",
       "      <td>(40.48, -74.2736683417)</td>\n",
       "    </tr>\n",
       "    <tr>\n",
       "      <th>3</th>\n",
       "      <td>40.48</td>\n",
       "      <td>-74.270503</td>\n",
       "      <td>340230076003004</td>\n",
       "      <td>Middlesex</td>\n",
       "      <td>NJ</td>\n",
       "      <td>(40.48, -74.2705025126)</td>\n",
       "    </tr>\n",
       "    <tr>\n",
       "      <th>4</th>\n",
       "      <td>40.48</td>\n",
       "      <td>-74.267337</td>\n",
       "      <td>340230074021000</td>\n",
       "      <td>Middlesex</td>\n",
       "      <td>NJ</td>\n",
       "      <td>(40.48, -74.2673366834)</td>\n",
       "    </tr>\n",
       "  </tbody>\n",
       "</table>\n",
       "</div>"
      ],
      "text/plain": [
       "   Latitude  Longitude        BlockCode     County State  \\\n",
       "0     40.48 -74.280000  340230076002012  Middlesex    NJ   \n",
       "1     40.48 -74.276834  340230076005000  Middlesex    NJ   \n",
       "2     40.48 -74.273668  340230076003018  Middlesex    NJ   \n",
       "3     40.48 -74.270503  340230076003004  Middlesex    NJ   \n",
       "4     40.48 -74.267337  340230074021000  Middlesex    NJ   \n",
       "\n",
       "               Geolocation  \n",
       "0          (40.48, -74.28)  \n",
       "1  (40.48, -74.2768341709)  \n",
       "2  (40.48, -74.2736683417)  \n",
       "3  (40.48, -74.2705025126)  \n",
       "4  (40.48, -74.2673366834)  "
      ]
     },
     "execution_count": 55,
     "metadata": {},
     "output_type": "execute_result"
    }
   ],
   "source": [
    "census.head()"
   ]
  },
  {
   "cell_type": "code",
   "execution_count": null,
   "metadata": {},
   "outputs": [],
   "source": []
  },
  {
   "cell_type": "code",
   "execution_count": null,
   "metadata": {},
   "outputs": [],
   "source": []
  },
  {
   "cell_type": "code",
   "execution_count": 51,
   "metadata": {
    "scrolled": true
   },
   "outputs": [],
   "source": [
    "test.loc[1] = (40.48, -74.2768341709)"
   ]
  },
  {
   "cell_type": "code",
   "execution_count": 52,
   "metadata": {},
   "outputs": [
    {
     "data": {
      "text/plain": [
       "(40.48, -74.2768341709)"
      ]
     },
     "execution_count": 52,
     "metadata": {},
     "output_type": "execute_result"
    }
   ],
   "source": [
    "test.loc[1] # so now, nothing should match except the 1 at index position 1"
   ]
  },
  {
   "cell_type": "code",
   "execution_count": 53,
   "metadata": {},
   "outputs": [
    {
     "data": {
      "text/plain": [
       "0            (41.48, -74.28)\n",
       "1    (40.48, -74.2768341709)\n",
       "2    (41.48, -74.2736683417)\n",
       "3    (41.48, -74.2705025126)\n",
       "4    (41.48, -74.2673366834)\n",
       "dtype: object"
      ]
     },
     "execution_count": 53,
     "metadata": {},
     "output_type": "execute_result"
    }
   ],
   "source": [
    "test.head()"
   ]
  },
  {
   "cell_type": "code",
   "execution_count": 56,
   "metadata": {},
   "outputs": [
    {
     "data": {
      "text/plain": [
       "(40.48, -74.2768341709)"
      ]
     },
     "execution_count": 56,
     "metadata": {},
     "output_type": "execute_result"
    }
   ],
   "source": []
  },
  {
   "cell_type": "code",
   "execution_count": null,
   "metadata": {},
   "outputs": [],
   "source": []
  },
  {
   "cell_type": "code",
   "execution_count": null,
   "metadata": {},
   "outputs": [],
   "source": []
  },
  {
   "cell_type": "code",
   "execution_count": 22,
   "metadata": {},
   "outputs": [],
   "source": [
    "# datelist_2016 = pd.date_range('2016-01-01', periods=365)\n",
    "# datelist_2015 = pd.date_range('2015-01-01', periods=365)\n",
    "# datelist_2014 = pd.date_range('2014-01-01', periods=365)\n",
    "# datelist_2013 = pd.date_range('2013-01-01', periods=365)\n",
    "# datelist_2012 = pd.date_range('2012-01-01', periods=365)\n",
    "# datelist_2011 = pd.date_range('2011-01-01', periods=365)\n",
    "# datelist_2010 = pd.date_range('2010-01-01', periods=365)\n",
    "# datelist_2016 = [str(i.date()) for i in datelist_2016]\n",
    "# datelist_2015 = [str(i.date()) for i in datelist_2015]\n",
    "# datelist_2014 = [str(i.date()) for i in datelist_2014]\n",
    "# datelist_2013 = [str(i.date()) for i in datelist_2013]\n",
    "# datelist_2012 = [str(i.date()) for i in datelist_2012]\n",
    "# datelist_2011 = [str(i.date()) for i in datelist_2011]\n",
    "# datelist_2010 = [str(i.date()) for i in datelist_2010]\n"
   ]
  },
  {
   "cell_type": "code",
   "execution_count": 23,
   "metadata": {},
   "outputs": [],
   "source": [
    "# def get_complaints(dates):\n",
    "#     complaints = []\n",
    "#     for date in dates:\n",
    "#         r = requests.get(f'https://data.cityofnewyork.us/resource/fhrw-4uyv.json?created_date={date}')\n",
    "#         data = r.json()\n",
    "#         complaints.extend(data)\n",
    "#     return complaints\n",
    "        "
   ]
  },
  {
   "cell_type": "code",
   "execution_count": null,
   "metadata": {},
   "outputs": [],
   "source": [
    "\n",
    "# complaints_2015 = get_complaints(datelist_2015)\n",
    "# complaints_2014 = get_complaints(datelist_2014)\n",
    "# complaints_2013 = get_complaints(datelist_2013)\n",
    "# complaints_2012 = get_complaints(datelist_2012)\n",
    "# complaints_2011 = get_complaints(datelist_2011)\n",
    "# complaints_2010 = get_complaints(datelist_2010)"
   ]
  },
  {
   "cell_type": "code",
   "execution_count": null,
   "metadata": {},
   "outputs": [],
   "source": []
  },
  {
   "cell_type": "code",
   "execution_count": 24,
   "metadata": {},
   "outputs": [],
   "source": [
    "# service_requests = pd.read_csv('311_Service_Requests_from_2010_to_Present.csv')"
   ]
  },
  {
   "cell_type": "code",
   "execution_count": 26,
   "metadata": {},
   "outputs": [],
   "source": [
    "# service_requests.head()"
   ]
  },
  {
   "cell_type": "code",
   "execution_count": 25,
   "metadata": {},
   "outputs": [],
   "source": [
    "# service_requests.columns"
   ]
  },
  {
   "cell_type": "code",
   "execution_count": null,
   "metadata": {},
   "outputs": [],
   "source": []
  }
 ],
 "metadata": {
  "kernelspec": {
   "display_name": "Python 3",
   "language": "python",
   "name": "python3"
  },
  "language_info": {
   "codemirror_mode": {
    "name": "ipython",
    "version": 3
   },
   "file_extension": ".py",
   "mimetype": "text/x-python",
   "name": "python",
   "nbconvert_exporter": "python",
   "pygments_lexer": "ipython3",
   "version": "3.6.5"
  }
 },
 "nbformat": 4,
 "nbformat_minor": 2
}
