{
 "cells": [
  {
   "cell_type": "code",
   "execution_count": 8,
   "metadata": {},
   "outputs": [],
   "source": [
    "import pandas as pd\n",
    "%matplotlib inline\n",
    "import numpy as np\n",
    "import matplotlib.pyplot as plt\n",
    "import seaborn as sns; sns.set()\n"
   ]
  },
  {
   "cell_type": "code",
   "execution_count": 103,
   "metadata": {
    "scrolled": false
   },
   "outputs": [],
   "source": [
    "# now combined data doesn't include bachelor degree subject areas because realized that dataset ended at mississippi\n",
    "# only thing that's different from brian's version is the binning by region\n",
    "\n",
    "med_df = pd.read_csv('./combined_df_csv')"
   ]
  },
  {
   "cell_type": "code",
   "execution_count": 104,
   "metadata": {},
   "outputs": [
    {
     "data": {
      "text/html": [
       "<div>\n",
       "<style scoped>\n",
       "    .dataframe tbody tr th:only-of-type {\n",
       "        vertical-align: middle;\n",
       "    }\n",
       "\n",
       "    .dataframe tbody tr th {\n",
       "        vertical-align: top;\n",
       "    }\n",
       "\n",
       "    .dataframe thead th {\n",
       "        text-align: right;\n",
       "    }\n",
       "</style>\n",
       "<table border=\"1\" class=\"dataframe\">\n",
       "  <thead>\n",
       "    <tr style=\"text-align: right;\">\n",
       "      <th></th>\n",
       "      <th>Unnamed: 0</th>\n",
       "      <th>StateAbbr</th>\n",
       "      <th>PlaceName</th>\n",
       "      <th>PlaceFIPS</th>\n",
       "      <th>Place_TractID</th>\n",
       "      <th>Population2010</th>\n",
       "      <th>ACCESS2_CrudePrev</th>\n",
       "      <th>ACCESS2_Crude95CI</th>\n",
       "      <th>ARTHRITIS_CrudePrev</th>\n",
       "      <th>ARTHRITIS_Crude95CI</th>\n",
       "      <th>...</th>\n",
       "      <th>PHLTH_Crude95CI</th>\n",
       "      <th>SLEEP_CrudePrev</th>\n",
       "      <th>SLEEP_Crude95CI</th>\n",
       "      <th>STROKE_CrudePrev</th>\n",
       "      <th>STROKE_Crude95CI</th>\n",
       "      <th>TEETHLOST_CrudePrev</th>\n",
       "      <th>TEETHLOST_Crude95CI</th>\n",
       "      <th>Geolocation</th>\n",
       "      <th>LILATracts_halfAnd10</th>\n",
       "      <th>Regions</th>\n",
       "    </tr>\n",
       "  </thead>\n",
       "  <tbody>\n",
       "    <tr>\n",
       "      <th>0</th>\n",
       "      <td>1073000100</td>\n",
       "      <td>AL</td>\n",
       "      <td>Birmingham</td>\n",
       "      <td>107000</td>\n",
       "      <td>1073000100</td>\n",
       "      <td>3042</td>\n",
       "      <td>23.3</td>\n",
       "      <td>(20.6, 26.3)</td>\n",
       "      <td>31.3</td>\n",
       "      <td>(30.3, 32.5)</td>\n",
       "      <td>...</td>\n",
       "      <td>(18.5, 21.7)</td>\n",
       "      <td>45.5</td>\n",
       "      <td>(44.3, 46.5)</td>\n",
       "      <td>5.6</td>\n",
       "      <td>( 5.1,  6.1)</td>\n",
       "      <td>28.9</td>\n",
       "      <td>(23.7, 35.1)</td>\n",
       "      <td>(33.57943283260, -86.7228323926)</td>\n",
       "      <td>1.0</td>\n",
       "      <td>South</td>\n",
       "    </tr>\n",
       "    <tr>\n",
       "      <th>1</th>\n",
       "      <td>1073000300</td>\n",
       "      <td>AL</td>\n",
       "      <td>Birmingham</td>\n",
       "      <td>107000</td>\n",
       "      <td>1073000300</td>\n",
       "      <td>2735</td>\n",
       "      <td>28.5</td>\n",
       "      <td>(25.2, 31.7)</td>\n",
       "      <td>30.2</td>\n",
       "      <td>(29.0, 31.4)</td>\n",
       "      <td>...</td>\n",
       "      <td>(18.8, 22.5)</td>\n",
       "      <td>44.5</td>\n",
       "      <td>(43.2, 45.7)</td>\n",
       "      <td>5.9</td>\n",
       "      <td>( 5.3,  6.5)</td>\n",
       "      <td>32.9</td>\n",
       "      <td>(25.5, 40.2)</td>\n",
       "      <td>(33.54282086860, -86.7524339780)</td>\n",
       "      <td>1.0</td>\n",
       "      <td>South</td>\n",
       "    </tr>\n",
       "    <tr>\n",
       "      <th>2</th>\n",
       "      <td>1073000400</td>\n",
       "      <td>AL</td>\n",
       "      <td>Birmingham</td>\n",
       "      <td>107000</td>\n",
       "      <td>1073000400</td>\n",
       "      <td>3338</td>\n",
       "      <td>23.9</td>\n",
       "      <td>(20.5, 27.6)</td>\n",
       "      <td>31.7</td>\n",
       "      <td>(30.3, 33.0)</td>\n",
       "      <td>...</td>\n",
       "      <td>(17.6, 21.4)</td>\n",
       "      <td>45.7</td>\n",
       "      <td>(44.2, 47.0)</td>\n",
       "      <td>5.7</td>\n",
       "      <td>( 5.1,  6.4)</td>\n",
       "      <td>28.6</td>\n",
       "      <td>(22.0, 35.1)</td>\n",
       "      <td>(33.56324496330, -86.7640474064)</td>\n",
       "      <td>1.0</td>\n",
       "      <td>South</td>\n",
       "    </tr>\n",
       "    <tr>\n",
       "      <th>3</th>\n",
       "      <td>1073000500</td>\n",
       "      <td>AL</td>\n",
       "      <td>Birmingham</td>\n",
       "      <td>107000</td>\n",
       "      <td>1073000500</td>\n",
       "      <td>2864</td>\n",
       "      <td>25.8</td>\n",
       "      <td>(22.0, 29.9)</td>\n",
       "      <td>35.6</td>\n",
       "      <td>(34.1, 37.0)</td>\n",
       "      <td>...</td>\n",
       "      <td>(19.8, 24.0)</td>\n",
       "      <td>46.1</td>\n",
       "      <td>(44.5, 47.4)</td>\n",
       "      <td>7.7</td>\n",
       "      <td>( 6.9,  8.6)</td>\n",
       "      <td>34.0</td>\n",
       "      <td>(24.4, 42.9)</td>\n",
       "      <td>(33.54424045940, -86.7749130719)</td>\n",
       "      <td>1.0</td>\n",
       "      <td>South</td>\n",
       "    </tr>\n",
       "    <tr>\n",
       "      <th>4</th>\n",
       "      <td>1073000700</td>\n",
       "      <td>AL</td>\n",
       "      <td>Birmingham</td>\n",
       "      <td>107000</td>\n",
       "      <td>1073000700</td>\n",
       "      <td>2577</td>\n",
       "      <td>29.4</td>\n",
       "      <td>(24.8, 34.2)</td>\n",
       "      <td>37.2</td>\n",
       "      <td>(35.8, 38.6)</td>\n",
       "      <td>...</td>\n",
       "      <td>(22.9, 27.6)</td>\n",
       "      <td>48.3</td>\n",
       "      <td>(46.6, 49.7)</td>\n",
       "      <td>9.5</td>\n",
       "      <td>( 8.4, 10.6)</td>\n",
       "      <td>43.2</td>\n",
       "      <td>(33.2, 53.2)</td>\n",
       "      <td>(33.55254061390, -86.8016893706)</td>\n",
       "      <td>1.0</td>\n",
       "      <td>South</td>\n",
       "    </tr>\n",
       "  </tbody>\n",
       "</table>\n",
       "<p>5 rows × 65 columns</p>\n",
       "</div>"
      ],
      "text/plain": [
       "   Unnamed: 0 StateAbbr   PlaceName  PlaceFIPS  Place_TractID  Population2010  \\\n",
       "0  1073000100        AL  Birmingham     107000     1073000100            3042   \n",
       "1  1073000300        AL  Birmingham     107000     1073000300            2735   \n",
       "2  1073000400        AL  Birmingham     107000     1073000400            3338   \n",
       "3  1073000500        AL  Birmingham     107000     1073000500            2864   \n",
       "4  1073000700        AL  Birmingham     107000     1073000700            2577   \n",
       "\n",
       "   ACCESS2_CrudePrev ACCESS2_Crude95CI  ARTHRITIS_CrudePrev  \\\n",
       "0               23.3      (20.6, 26.3)                 31.3   \n",
       "1               28.5      (25.2, 31.7)                 30.2   \n",
       "2               23.9      (20.5, 27.6)                 31.7   \n",
       "3               25.8      (22.0, 29.9)                 35.6   \n",
       "4               29.4      (24.8, 34.2)                 37.2   \n",
       "\n",
       "  ARTHRITIS_Crude95CI   ...    PHLTH_Crude95CI SLEEP_CrudePrev  \\\n",
       "0        (30.3, 32.5)   ...       (18.5, 21.7)            45.5   \n",
       "1        (29.0, 31.4)   ...       (18.8, 22.5)            44.5   \n",
       "2        (30.3, 33.0)   ...       (17.6, 21.4)            45.7   \n",
       "3        (34.1, 37.0)   ...       (19.8, 24.0)            46.1   \n",
       "4        (35.8, 38.6)   ...       (22.9, 27.6)            48.3   \n",
       "\n",
       "   SLEEP_Crude95CI STROKE_CrudePrev  STROKE_Crude95CI TEETHLOST_CrudePrev  \\\n",
       "0     (44.3, 46.5)              5.6      ( 5.1,  6.1)                28.9   \n",
       "1     (43.2, 45.7)              5.9      ( 5.3,  6.5)                32.9   \n",
       "2     (44.2, 47.0)              5.7      ( 5.1,  6.4)                28.6   \n",
       "3     (44.5, 47.4)              7.7      ( 6.9,  8.6)                34.0   \n",
       "4     (46.6, 49.7)              9.5      ( 8.4, 10.6)                43.2   \n",
       "\n",
       "   TEETHLOST_Crude95CI                       Geolocation  \\\n",
       "0         (23.7, 35.1)  (33.57943283260, -86.7228323926)   \n",
       "1         (25.5, 40.2)  (33.54282086860, -86.7524339780)   \n",
       "2         (22.0, 35.1)  (33.56324496330, -86.7640474064)   \n",
       "3         (24.4, 42.9)  (33.54424045940, -86.7749130719)   \n",
       "4         (33.2, 53.2)  (33.55254061390, -86.8016893706)   \n",
       "\n",
       "   LILATracts_halfAnd10 Regions  \n",
       "0                   1.0   South  \n",
       "1                   1.0   South  \n",
       "2                   1.0   South  \n",
       "3                   1.0   South  \n",
       "4                   1.0   South  \n",
       "\n",
       "[5 rows x 65 columns]"
      ]
     },
     "execution_count": 104,
     "metadata": {},
     "output_type": "execute_result"
    }
   ],
   "source": [
    "med_df.head()"
   ]
  },
  {
   "cell_type": "code",
   "execution_count": 105,
   "metadata": {},
   "outputs": [],
   "source": [
    "med_df = med_df.rename(columns={'LILATracts_halfAnd10':'Food Desert Cat. Var.'})\n",
    "\n",
    "# 1 = food desert"
   ]
  },
  {
   "cell_type": "code",
   "execution_count": 106,
   "metadata": {
    "scrolled": true
   },
   "outputs": [
    {
     "data": {
      "text/html": [
       "<div>\n",
       "<style scoped>\n",
       "    .dataframe tbody tr th:only-of-type {\n",
       "        vertical-align: middle;\n",
       "    }\n",
       "\n",
       "    .dataframe tbody tr th {\n",
       "        vertical-align: top;\n",
       "    }\n",
       "\n",
       "    .dataframe thead th {\n",
       "        text-align: right;\n",
       "    }\n",
       "</style>\n",
       "<table border=\"1\" class=\"dataframe\">\n",
       "  <thead>\n",
       "    <tr style=\"text-align: right;\">\n",
       "      <th></th>\n",
       "      <th>Unnamed: 0</th>\n",
       "      <th>StateAbbr</th>\n",
       "      <th>PlaceName</th>\n",
       "      <th>PlaceFIPS</th>\n",
       "      <th>Place_TractID</th>\n",
       "      <th>Population2010</th>\n",
       "      <th>ACCESS2_CrudePrev</th>\n",
       "      <th>ACCESS2_Crude95CI</th>\n",
       "      <th>ARTHRITIS_CrudePrev</th>\n",
       "      <th>ARTHRITIS_Crude95CI</th>\n",
       "      <th>...</th>\n",
       "      <th>PHLTH_Crude95CI</th>\n",
       "      <th>SLEEP_CrudePrev</th>\n",
       "      <th>SLEEP_Crude95CI</th>\n",
       "      <th>STROKE_CrudePrev</th>\n",
       "      <th>STROKE_Crude95CI</th>\n",
       "      <th>TEETHLOST_CrudePrev</th>\n",
       "      <th>TEETHLOST_Crude95CI</th>\n",
       "      <th>Geolocation</th>\n",
       "      <th>Food Desert Cat. Var.</th>\n",
       "      <th>Regions</th>\n",
       "    </tr>\n",
       "  </thead>\n",
       "  <tbody>\n",
       "    <tr>\n",
       "      <th>0</th>\n",
       "      <td>1073000100</td>\n",
       "      <td>AL</td>\n",
       "      <td>Birmingham</td>\n",
       "      <td>107000</td>\n",
       "      <td>1073000100</td>\n",
       "      <td>3042</td>\n",
       "      <td>23.3</td>\n",
       "      <td>(20.6, 26.3)</td>\n",
       "      <td>31.3</td>\n",
       "      <td>(30.3, 32.5)</td>\n",
       "      <td>...</td>\n",
       "      <td>(18.5, 21.7)</td>\n",
       "      <td>45.5</td>\n",
       "      <td>(44.3, 46.5)</td>\n",
       "      <td>5.6</td>\n",
       "      <td>( 5.1,  6.1)</td>\n",
       "      <td>28.9</td>\n",
       "      <td>(23.7, 35.1)</td>\n",
       "      <td>(33.57943283260, -86.7228323926)</td>\n",
       "      <td>1.0</td>\n",
       "      <td>South</td>\n",
       "    </tr>\n",
       "    <tr>\n",
       "      <th>1</th>\n",
       "      <td>1073000300</td>\n",
       "      <td>AL</td>\n",
       "      <td>Birmingham</td>\n",
       "      <td>107000</td>\n",
       "      <td>1073000300</td>\n",
       "      <td>2735</td>\n",
       "      <td>28.5</td>\n",
       "      <td>(25.2, 31.7)</td>\n",
       "      <td>30.2</td>\n",
       "      <td>(29.0, 31.4)</td>\n",
       "      <td>...</td>\n",
       "      <td>(18.8, 22.5)</td>\n",
       "      <td>44.5</td>\n",
       "      <td>(43.2, 45.7)</td>\n",
       "      <td>5.9</td>\n",
       "      <td>( 5.3,  6.5)</td>\n",
       "      <td>32.9</td>\n",
       "      <td>(25.5, 40.2)</td>\n",
       "      <td>(33.54282086860, -86.7524339780)</td>\n",
       "      <td>1.0</td>\n",
       "      <td>South</td>\n",
       "    </tr>\n",
       "    <tr>\n",
       "      <th>2</th>\n",
       "      <td>1073000400</td>\n",
       "      <td>AL</td>\n",
       "      <td>Birmingham</td>\n",
       "      <td>107000</td>\n",
       "      <td>1073000400</td>\n",
       "      <td>3338</td>\n",
       "      <td>23.9</td>\n",
       "      <td>(20.5, 27.6)</td>\n",
       "      <td>31.7</td>\n",
       "      <td>(30.3, 33.0)</td>\n",
       "      <td>...</td>\n",
       "      <td>(17.6, 21.4)</td>\n",
       "      <td>45.7</td>\n",
       "      <td>(44.2, 47.0)</td>\n",
       "      <td>5.7</td>\n",
       "      <td>( 5.1,  6.4)</td>\n",
       "      <td>28.6</td>\n",
       "      <td>(22.0, 35.1)</td>\n",
       "      <td>(33.56324496330, -86.7640474064)</td>\n",
       "      <td>1.0</td>\n",
       "      <td>South</td>\n",
       "    </tr>\n",
       "    <tr>\n",
       "      <th>3</th>\n",
       "      <td>1073000500</td>\n",
       "      <td>AL</td>\n",
       "      <td>Birmingham</td>\n",
       "      <td>107000</td>\n",
       "      <td>1073000500</td>\n",
       "      <td>2864</td>\n",
       "      <td>25.8</td>\n",
       "      <td>(22.0, 29.9)</td>\n",
       "      <td>35.6</td>\n",
       "      <td>(34.1, 37.0)</td>\n",
       "      <td>...</td>\n",
       "      <td>(19.8, 24.0)</td>\n",
       "      <td>46.1</td>\n",
       "      <td>(44.5, 47.4)</td>\n",
       "      <td>7.7</td>\n",
       "      <td>( 6.9,  8.6)</td>\n",
       "      <td>34.0</td>\n",
       "      <td>(24.4, 42.9)</td>\n",
       "      <td>(33.54424045940, -86.7749130719)</td>\n",
       "      <td>1.0</td>\n",
       "      <td>South</td>\n",
       "    </tr>\n",
       "    <tr>\n",
       "      <th>4</th>\n",
       "      <td>1073000700</td>\n",
       "      <td>AL</td>\n",
       "      <td>Birmingham</td>\n",
       "      <td>107000</td>\n",
       "      <td>1073000700</td>\n",
       "      <td>2577</td>\n",
       "      <td>29.4</td>\n",
       "      <td>(24.8, 34.2)</td>\n",
       "      <td>37.2</td>\n",
       "      <td>(35.8, 38.6)</td>\n",
       "      <td>...</td>\n",
       "      <td>(22.9, 27.6)</td>\n",
       "      <td>48.3</td>\n",
       "      <td>(46.6, 49.7)</td>\n",
       "      <td>9.5</td>\n",
       "      <td>( 8.4, 10.6)</td>\n",
       "      <td>43.2</td>\n",
       "      <td>(33.2, 53.2)</td>\n",
       "      <td>(33.55254061390, -86.8016893706)</td>\n",
       "      <td>1.0</td>\n",
       "      <td>South</td>\n",
       "    </tr>\n",
       "  </tbody>\n",
       "</table>\n",
       "<p>5 rows × 65 columns</p>\n",
       "</div>"
      ],
      "text/plain": [
       "   Unnamed: 0 StateAbbr   PlaceName  PlaceFIPS  Place_TractID  Population2010  \\\n",
       "0  1073000100        AL  Birmingham     107000     1073000100            3042   \n",
       "1  1073000300        AL  Birmingham     107000     1073000300            2735   \n",
       "2  1073000400        AL  Birmingham     107000     1073000400            3338   \n",
       "3  1073000500        AL  Birmingham     107000     1073000500            2864   \n",
       "4  1073000700        AL  Birmingham     107000     1073000700            2577   \n",
       "\n",
       "   ACCESS2_CrudePrev ACCESS2_Crude95CI  ARTHRITIS_CrudePrev  \\\n",
       "0               23.3      (20.6, 26.3)                 31.3   \n",
       "1               28.5      (25.2, 31.7)                 30.2   \n",
       "2               23.9      (20.5, 27.6)                 31.7   \n",
       "3               25.8      (22.0, 29.9)                 35.6   \n",
       "4               29.4      (24.8, 34.2)                 37.2   \n",
       "\n",
       "  ARTHRITIS_Crude95CI   ...    PHLTH_Crude95CI SLEEP_CrudePrev  \\\n",
       "0        (30.3, 32.5)   ...       (18.5, 21.7)            45.5   \n",
       "1        (29.0, 31.4)   ...       (18.8, 22.5)            44.5   \n",
       "2        (30.3, 33.0)   ...       (17.6, 21.4)            45.7   \n",
       "3        (34.1, 37.0)   ...       (19.8, 24.0)            46.1   \n",
       "4        (35.8, 38.6)   ...       (22.9, 27.6)            48.3   \n",
       "\n",
       "   SLEEP_Crude95CI STROKE_CrudePrev  STROKE_Crude95CI TEETHLOST_CrudePrev  \\\n",
       "0     (44.3, 46.5)              5.6      ( 5.1,  6.1)                28.9   \n",
       "1     (43.2, 45.7)              5.9      ( 5.3,  6.5)                32.9   \n",
       "2     (44.2, 47.0)              5.7      ( 5.1,  6.4)                28.6   \n",
       "3     (44.5, 47.4)              7.7      ( 6.9,  8.6)                34.0   \n",
       "4     (46.6, 49.7)              9.5      ( 8.4, 10.6)                43.2   \n",
       "\n",
       "   TEETHLOST_Crude95CI                       Geolocation  \\\n",
       "0         (23.7, 35.1)  (33.57943283260, -86.7228323926)   \n",
       "1         (25.5, 40.2)  (33.54282086860, -86.7524339780)   \n",
       "2         (22.0, 35.1)  (33.56324496330, -86.7640474064)   \n",
       "3         (24.4, 42.9)  (33.54424045940, -86.7749130719)   \n",
       "4         (33.2, 53.2)  (33.55254061390, -86.8016893706)   \n",
       "\n",
       "   Food Desert Cat. Var. Regions  \n",
       "0                    1.0   South  \n",
       "1                    1.0   South  \n",
       "2                    1.0   South  \n",
       "3                    1.0   South  \n",
       "4                    1.0   South  \n",
       "\n",
       "[5 rows x 65 columns]"
      ]
     },
     "execution_count": 106,
     "metadata": {},
     "output_type": "execute_result"
    }
   ],
   "source": [
    "med_df.head()"
   ]
  },
  {
   "cell_type": "code",
   "execution_count": 107,
   "metadata": {},
   "outputs": [
    {
     "data": {
      "text/plain": [
       "(27210, 65)"
      ]
     },
     "execution_count": 107,
     "metadata": {},
     "output_type": "execute_result"
    }
   ],
   "source": [
    "med_df.shape"
   ]
  },
  {
   "cell_type": "code",
   "execution_count": 108,
   "metadata": {},
   "outputs": [],
   "source": [
    "to_drop = []\n",
    "\n",
    "for i in med_df.columns: \n",
    "    if 'Crude95CI' in i: \n",
    "        to_drop.append(i)"
   ]
  },
  {
   "cell_type": "code",
   "execution_count": 109,
   "metadata": {},
   "outputs": [],
   "source": [
    "med_df = med_df.drop(columns=to_drop)"
   ]
  },
  {
   "cell_type": "code",
   "execution_count": 110,
   "metadata": {},
   "outputs": [
    {
     "data": {
      "text/html": [
       "<div>\n",
       "<style scoped>\n",
       "    .dataframe tbody tr th:only-of-type {\n",
       "        vertical-align: middle;\n",
       "    }\n",
       "\n",
       "    .dataframe tbody tr th {\n",
       "        vertical-align: top;\n",
       "    }\n",
       "\n",
       "    .dataframe thead th {\n",
       "        text-align: right;\n",
       "    }\n",
       "</style>\n",
       "<table border=\"1\" class=\"dataframe\">\n",
       "  <thead>\n",
       "    <tr style=\"text-align: right;\">\n",
       "      <th></th>\n",
       "      <th>Unnamed: 0</th>\n",
       "      <th>StateAbbr</th>\n",
       "      <th>PlaceName</th>\n",
       "      <th>PlaceFIPS</th>\n",
       "      <th>Place_TractID</th>\n",
       "      <th>Population2010</th>\n",
       "      <th>ACCESS2_CrudePrev</th>\n",
       "      <th>ARTHRITIS_CrudePrev</th>\n",
       "      <th>BINGE_CrudePrev</th>\n",
       "      <th>BPHIGH_CrudePrev</th>\n",
       "      <th>...</th>\n",
       "      <th>MHLTH_CrudePrev</th>\n",
       "      <th>OBESITY_CrudePrev</th>\n",
       "      <th>PAPTEST_CrudePrev</th>\n",
       "      <th>PHLTH_CrudePrev</th>\n",
       "      <th>SLEEP_CrudePrev</th>\n",
       "      <th>STROKE_CrudePrev</th>\n",
       "      <th>TEETHLOST_CrudePrev</th>\n",
       "      <th>Geolocation</th>\n",
       "      <th>Food Desert Cat. Var.</th>\n",
       "      <th>Regions</th>\n",
       "    </tr>\n",
       "  </thead>\n",
       "  <tbody>\n",
       "    <tr>\n",
       "      <th>0</th>\n",
       "      <td>1073000100</td>\n",
       "      <td>AL</td>\n",
       "      <td>Birmingham</td>\n",
       "      <td>107000</td>\n",
       "      <td>1073000100</td>\n",
       "      <td>3042</td>\n",
       "      <td>23.3</td>\n",
       "      <td>31.3</td>\n",
       "      <td>11.5</td>\n",
       "      <td>46.2</td>\n",
       "      <td>...</td>\n",
       "      <td>18.6</td>\n",
       "      <td>47.3</td>\n",
       "      <td>85.0</td>\n",
       "      <td>20.0</td>\n",
       "      <td>45.5</td>\n",
       "      <td>5.6</td>\n",
       "      <td>28.9</td>\n",
       "      <td>(33.57943283260, -86.7228323926)</td>\n",
       "      <td>1.0</td>\n",
       "      <td>South</td>\n",
       "    </tr>\n",
       "    <tr>\n",
       "      <th>1</th>\n",
       "      <td>1073000300</td>\n",
       "      <td>AL</td>\n",
       "      <td>Birmingham</td>\n",
       "      <td>107000</td>\n",
       "      <td>1073000300</td>\n",
       "      <td>2735</td>\n",
       "      <td>28.5</td>\n",
       "      <td>30.2</td>\n",
       "      <td>12.0</td>\n",
       "      <td>45.6</td>\n",
       "      <td>...</td>\n",
       "      <td>18.4</td>\n",
       "      <td>47.5</td>\n",
       "      <td>83.8</td>\n",
       "      <td>20.6</td>\n",
       "      <td>44.5</td>\n",
       "      <td>5.9</td>\n",
       "      <td>32.9</td>\n",
       "      <td>(33.54282086860, -86.7524339780)</td>\n",
       "      <td>1.0</td>\n",
       "      <td>South</td>\n",
       "    </tr>\n",
       "    <tr>\n",
       "      <th>2</th>\n",
       "      <td>1073000400</td>\n",
       "      <td>AL</td>\n",
       "      <td>Birmingham</td>\n",
       "      <td>107000</td>\n",
       "      <td>1073000400</td>\n",
       "      <td>3338</td>\n",
       "      <td>23.9</td>\n",
       "      <td>31.7</td>\n",
       "      <td>11.6</td>\n",
       "      <td>50.1</td>\n",
       "      <td>...</td>\n",
       "      <td>17.5</td>\n",
       "      <td>47.2</td>\n",
       "      <td>84.6</td>\n",
       "      <td>19.3</td>\n",
       "      <td>45.7</td>\n",
       "      <td>5.7</td>\n",
       "      <td>28.6</td>\n",
       "      <td>(33.56324496330, -86.7640474064)</td>\n",
       "      <td>1.0</td>\n",
       "      <td>South</td>\n",
       "    </tr>\n",
       "    <tr>\n",
       "      <th>3</th>\n",
       "      <td>1073000500</td>\n",
       "      <td>AL</td>\n",
       "      <td>Birmingham</td>\n",
       "      <td>107000</td>\n",
       "      <td>1073000500</td>\n",
       "      <td>2864</td>\n",
       "      <td>25.8</td>\n",
       "      <td>35.6</td>\n",
       "      <td>10.0</td>\n",
       "      <td>54.3</td>\n",
       "      <td>...</td>\n",
       "      <td>18.2</td>\n",
       "      <td>49.5</td>\n",
       "      <td>84.3</td>\n",
       "      <td>21.8</td>\n",
       "      <td>46.1</td>\n",
       "      <td>7.7</td>\n",
       "      <td>34.0</td>\n",
       "      <td>(33.54424045940, -86.7749130719)</td>\n",
       "      <td>1.0</td>\n",
       "      <td>South</td>\n",
       "    </tr>\n",
       "    <tr>\n",
       "      <th>4</th>\n",
       "      <td>1073000700</td>\n",
       "      <td>AL</td>\n",
       "      <td>Birmingham</td>\n",
       "      <td>107000</td>\n",
       "      <td>1073000700</td>\n",
       "      <td>2577</td>\n",
       "      <td>29.4</td>\n",
       "      <td>37.2</td>\n",
       "      <td>8.4</td>\n",
       "      <td>55.4</td>\n",
       "      <td>...</td>\n",
       "      <td>21.1</td>\n",
       "      <td>53.4</td>\n",
       "      <td>84.5</td>\n",
       "      <td>25.1</td>\n",
       "      <td>48.3</td>\n",
       "      <td>9.5</td>\n",
       "      <td>43.2</td>\n",
       "      <td>(33.55254061390, -86.8016893706)</td>\n",
       "      <td>1.0</td>\n",
       "      <td>South</td>\n",
       "    </tr>\n",
       "  </tbody>\n",
       "</table>\n",
       "<p>5 rows × 37 columns</p>\n",
       "</div>"
      ],
      "text/plain": [
       "   Unnamed: 0 StateAbbr   PlaceName  PlaceFIPS  Place_TractID  Population2010  \\\n",
       "0  1073000100        AL  Birmingham     107000     1073000100            3042   \n",
       "1  1073000300        AL  Birmingham     107000     1073000300            2735   \n",
       "2  1073000400        AL  Birmingham     107000     1073000400            3338   \n",
       "3  1073000500        AL  Birmingham     107000     1073000500            2864   \n",
       "4  1073000700        AL  Birmingham     107000     1073000700            2577   \n",
       "\n",
       "   ACCESS2_CrudePrev  ARTHRITIS_CrudePrev  BINGE_CrudePrev  BPHIGH_CrudePrev  \\\n",
       "0               23.3                 31.3             11.5              46.2   \n",
       "1               28.5                 30.2             12.0              45.6   \n",
       "2               23.9                 31.7             11.6              50.1   \n",
       "3               25.8                 35.6             10.0              54.3   \n",
       "4               29.4                 37.2              8.4              55.4   \n",
       "\n",
       "    ...     MHLTH_CrudePrev  OBESITY_CrudePrev  PAPTEST_CrudePrev  \\\n",
       "0   ...                18.6               47.3               85.0   \n",
       "1   ...                18.4               47.5               83.8   \n",
       "2   ...                17.5               47.2               84.6   \n",
       "3   ...                18.2               49.5               84.3   \n",
       "4   ...                21.1               53.4               84.5   \n",
       "\n",
       "   PHLTH_CrudePrev  SLEEP_CrudePrev  STROKE_CrudePrev  TEETHLOST_CrudePrev  \\\n",
       "0             20.0             45.5               5.6                 28.9   \n",
       "1             20.6             44.5               5.9                 32.9   \n",
       "2             19.3             45.7               5.7                 28.6   \n",
       "3             21.8             46.1               7.7                 34.0   \n",
       "4             25.1             48.3               9.5                 43.2   \n",
       "\n",
       "                        Geolocation  Food Desert Cat. Var.  Regions  \n",
       "0  (33.57943283260, -86.7228323926)                    1.0    South  \n",
       "1  (33.54282086860, -86.7524339780)                    1.0    South  \n",
       "2  (33.56324496330, -86.7640474064)                    1.0    South  \n",
       "3  (33.54424045940, -86.7749130719)                    1.0    South  \n",
       "4  (33.55254061390, -86.8016893706)                    1.0    South  \n",
       "\n",
       "[5 rows x 37 columns]"
      ]
     },
     "execution_count": 110,
     "metadata": {},
     "output_type": "execute_result"
    }
   ],
   "source": [
    "med_df.head()"
   ]
  },
  {
   "cell_type": "code",
   "execution_count": 111,
   "metadata": {
    "scrolled": true
   },
   "outputs": [
    {
     "data": {
      "text/plain": [
       "(27210, 37)"
      ]
     },
     "execution_count": 111,
     "metadata": {},
     "output_type": "execute_result"
    }
   ],
   "source": [
    "med_df.shape # shape before pca = (27210, 43)"
   ]
  },
  {
   "cell_type": "code",
   "execution_count": 119,
   "metadata": {
    "scrolled": true
   },
   "outputs": [
    {
     "data": {
      "text/plain": [
       "(27210, 37)"
      ]
     },
     "execution_count": 119,
     "metadata": {},
     "output_type": "execute_result"
    }
   ],
   "source": [
    "med_df.shape"
   ]
  },
  {
   "cell_type": "code",
   "execution_count": 122,
   "metadata": {},
   "outputs": [],
   "source": [
    "# something = med_df.apply(lambda row: row.astype(str).str.contains('NaN').any(), axis=1)\n"
   ]
  },
  {
   "cell_type": "code",
   "execution_count": 124,
   "metadata": {},
   "outputs": [],
   "source": [
    "# if something.any(): \n",
    "#     print('yay')"
   ]
  },
  {
   "cell_type": "code",
   "execution_count": null,
   "metadata": {},
   "outputs": [],
   "source": []
  },
  {
   "cell_type": "code",
   "execution_count": null,
   "metadata": {},
   "outputs": [],
   "source": []
  },
  {
   "cell_type": "code",
   "execution_count": 152,
   "metadata": {},
   "outputs": [],
   "source": [
    "X = med_df.drop(columns=['Food Desert Cat. Var.', 'Geolocation'])"
   ]
  },
  {
   "cell_type": "code",
   "execution_count": 153,
   "metadata": {},
   "outputs": [
    {
     "data": {
      "text/plain": [
       "(27210, 35)"
      ]
     },
     "execution_count": 153,
     "metadata": {},
     "output_type": "execute_result"
    }
   ],
   "source": [
    "X.shape\n"
   ]
  },
  {
   "cell_type": "code",
   "execution_count": 154,
   "metadata": {},
   "outputs": [],
   "source": [
    "y = med_df['Food Desert Cat. Var.'].dropna()"
   ]
  },
  {
   "cell_type": "code",
   "execution_count": 155,
   "metadata": {},
   "outputs": [
    {
     "data": {
      "text/plain": [
       "(27204,)"
      ]
     },
     "execution_count": 155,
     "metadata": {},
     "output_type": "execute_result"
    }
   ],
   "source": [
    "y.shape"
   ]
  },
  {
   "cell_type": "code",
   "execution_count": 156,
   "metadata": {},
   "outputs": [],
   "source": [
    "X = pd.get_dummies(X, drop_first=True).dropna()"
   ]
  },
  {
   "cell_type": "code",
   "execution_count": 157,
   "metadata": {},
   "outputs": [
    {
     "data": {
      "text/plain": [
       "(24866, 558)"
      ]
     },
     "execution_count": 157,
     "metadata": {},
     "output_type": "execute_result"
    }
   ],
   "source": [
    "X.shape"
   ]
  },
  {
   "cell_type": "code",
   "execution_count": 159,
   "metadata": {},
   "outputs": [],
   "source": [
    "from sklearn.preprocessing import StandardScaler\n",
    "\n",
    "X = StandardScaler().fit_transform(X)\n"
   ]
  },
  {
   "cell_type": "code",
   "execution_count": 162,
   "metadata": {},
   "outputs": [
    {
     "data": {
      "text/plain": [
       "(24866, 558)"
      ]
     },
     "execution_count": 162,
     "metadata": {},
     "output_type": "execute_result"
    }
   ],
   "source": [
    "X.shape"
   ]
  },
  {
   "cell_type": "code",
   "execution_count": 163,
   "metadata": {},
   "outputs": [],
   "source": [
    "# Create a PCA instance and fit the data \n",
    "from sklearn.decomposition import PCA\n",
    "\n",
    "pca = PCA(n_components=2) # Number of principal components required\n",
    "\n",
    "X_pca = pca.fit_transform(X)"
   ]
  },
  {
   "cell_type": "code",
   "execution_count": 164,
   "metadata": {},
   "outputs": [
    {
     "name": "stdout",
     "output_type": "stream",
     "text": [
      "[[ 0.05603529  0.05656308  0.0566258  ...  0.0246817   0.03842887\n",
      "  -0.0918625 ]\n",
      " [ 0.15168154  0.15072473  0.15085495 ...  0.05248598  0.12486245\n",
      "  -0.20148856]]\n"
     ]
    }
   ],
   "source": [
    "print(pca.components_)"
   ]
  },
  {
   "cell_type": "code",
   "execution_count": 165,
   "metadata": {},
   "outputs": [
    {
     "name": "stdout",
     "output_type": "stream",
     "text": [
      "[16.40061989  6.44113755]\n"
     ]
    }
   ],
   "source": [
    "print(pca.explained_variance_)"
   ]
  },
  {
   "cell_type": "code",
   "execution_count": 166,
   "metadata": {},
   "outputs": [
    {
     "name": "stdout",
     "output_type": "stream",
     "text": [
      "original shape:    (24866, 558)\n",
      "transformed shape: (24866, 2)\n"
     ]
    }
   ],
   "source": [
    "print(\"original shape:   \", X.shape)\n",
    "print(\"transformed shape:\", X_pca.shape)"
   ]
  },
  {
   "cell_type": "code",
   "execution_count": null,
   "metadata": {},
   "outputs": [],
   "source": [
    "### next steps = run vanilla classifier to compare pca explained variance w/model's accuracy rate\n"
   ]
  },
  {
   "cell_type": "code",
   "execution_count": null,
   "metadata": {},
   "outputs": [],
   "source": []
  }
 ],
 "metadata": {
  "kernelspec": {
   "display_name": "Python 3",
   "language": "python",
   "name": "python3"
  },
  "language_info": {
   "codemirror_mode": {
    "name": "ipython",
    "version": 3
   },
   "file_extension": ".py",
   "mimetype": "text/x-python",
   "name": "python",
   "nbconvert_exporter": "python",
   "pygments_lexer": "ipython3",
   "version": "3.6.5"
  }
 },
 "nbformat": 4,
 "nbformat_minor": 2
}
