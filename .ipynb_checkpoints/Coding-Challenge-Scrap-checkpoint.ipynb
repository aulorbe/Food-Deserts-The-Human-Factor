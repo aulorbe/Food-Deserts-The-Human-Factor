{
 "cells": [
  {
   "cell_type": "code",
   "execution_count": null,
   "metadata": {},
   "outputs": [],
   "source": [
    "# use: findall method, groups\n",
    "# goal: output a dictionary w/keys being HTML tags and values = content within tag"
   ]
  },
  {
   "cell_type": "code",
   "execution_count": 1,
   "metadata": {},
   "outputs": [],
   "source": [
    "import re\n",
    "import requests\n"
   ]
  },
  {
   "cell_type": "code",
   "execution_count": 2,
   "metadata": {},
   "outputs": [
    {
     "data": {
      "text/plain": [
       "'<HTML>\\n<HEAD>\\n<TITLE>Your Title Here</TITLE>\\n</HEAD>\\n\\n<BODY>\\n<HR>\\n<a href=\"http://someurl.com\">Link Name</a>\\n<H1>This is a Header</H1>\\n<H2>This is a Medium Header</H2>\\n<P>This is a new paragraph! </P>\\n<P>This is a another paragraph!</P>\\n<B>This is a new sentence without a paragraph break, in bold italics.</B>\\n<HR>\\n</BODY>\\n</HTML>\\n'"
      ]
     },
     "execution_count": 2,
     "metadata": {},
     "output_type": "execute_result"
    }
   ],
   "source": [
    "r = requests.get(\"https://raw.githubusercontent.com/selva86/datasets/master/sample.html\")\n",
    "r.text\n"
   ]
  },
  {
   "cell_type": "code",
   "execution_count": 55,
   "metadata": {},
   "outputs": [],
   "source": [
    "all_ = re.findall(r'(\\<.*\\>)(.*?)(\\<\\/.*\\>)', r.text)\n"
   ]
  },
  {
   "cell_type": "code",
   "execution_count": 56,
   "metadata": {},
   "outputs": [
    {
     "data": {
      "text/plain": [
       "[('<TITLE>', 'Your Title Here', '</TITLE>'),\n",
       " ('<a href=\"http://someurl.com\">', 'Link Name', '</a>'),\n",
       " ('<H1>', 'This is a Header', '</H1>'),\n",
       " ('<H2>', 'This is a Medium Header', '</H2>'),\n",
       " ('<P>', 'This is a new paragraph! ', '</P>'),\n",
       " ('<P>', 'This is a another paragraph!', '</P>'),\n",
       " ('<B>',\n",
       "  'This is a new sentence without a paragraph break, in bold italics.',\n",
       "  '</B>')]"
      ]
     },
     "execution_count": 56,
     "metadata": {},
     "output_type": "execute_result"
    }
   ],
   "source": [
    "all_\n"
   ]
  },
  {
   "cell_type": "code",
   "execution_count": 57,
   "metadata": {},
   "outputs": [],
   "source": [
    "new_dict = {}\n",
    "\n",
    "for i in all_: \n",
    "    tag = all_[0]\n",
    "    content = all_[1]\n",
    "    if tag in new_dict.keys():\n",
    "        new_dict[tag].append(content)\n",
    "    else: \n",
    "        new_dict[tag] = [content]\n",
    "    \n",
    "# new_dict_ = {new_dict[i[0]]: i[1] for i in all_}\n",
    "    "
   ]
  },
  {
   "cell_type": "code",
   "execution_count": 58,
   "metadata": {},
   "outputs": [
    {
     "data": {
      "text/plain": [
       "{('<TITLE>',\n",
       "  'Your Title Here',\n",
       "  '</TITLE>'): [('<a href=\"http://someurl.com\">',\n",
       "   'Link Name',\n",
       "   '</a>'), ('<a href=\"http://someurl.com\">', 'Link Name', '</a>'), ('<a href=\"http://someurl.com\">',\n",
       "   'Link Name',\n",
       "   '</a>'), ('<a href=\"http://someurl.com\">',\n",
       "   'Link Name',\n",
       "   '</a>'), ('<a href=\"http://someurl.com\">', 'Link Name', '</a>'), ('<a href=\"http://someurl.com\">',\n",
       "   'Link Name',\n",
       "   '</a>'), ('<a href=\"http://someurl.com\">', 'Link Name', '</a>')]}"
      ]
     },
     "execution_count": 58,
     "metadata": {},
     "output_type": "execute_result"
    }
   ],
   "source": [
    "new_dict"
   ]
  },
  {
   "cell_type": "code",
   "execution_count": null,
   "metadata": {},
   "outputs": [],
   "source": []
  }
 ],
 "metadata": {
  "kernelspec": {
   "display_name": "Python 3",
   "language": "python",
   "name": "python3"
  },
  "language_info": {
   "codemirror_mode": {
    "name": "ipython",
    "version": 3
   },
   "file_extension": ".py",
   "mimetype": "text/x-python",
   "name": "python",
   "nbconvert_exporter": "python",
   "pygments_lexer": "ipython3",
   "version": "3.6.5"
  }
 },
 "nbformat": 4,
 "nbformat_minor": 2
}
